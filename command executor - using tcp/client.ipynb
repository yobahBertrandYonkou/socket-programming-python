{
 "cells": [
  {
   "cell_type": "code",
   "execution_count": null,
   "id": "8fb5943f",
   "metadata": {},
   "outputs": [],
   "source": [
    "import socket"
   ]
  },
  {
   "cell_type": "code",
   "execution_count": null,
   "id": "e7eb8cb2",
   "metadata": {},
   "outputs": [],
   "source": [
    "client_address_family = socket.AF_INET\n",
    "client_protocol = socket.SOCK_STREAM\n",
    "client_skt = socket.socket(client_address_family, client_protocol)\n",
    "client_ip = socket.gethostbyname(\"localhost\")\n",
    "client_port = 9001\n",
    "server_port = 9008\n",
    "server_ip = \"127.0.0.1\"\n",
    "client_skt.bind((client_ip, client_port))\n",
    "\n",
    "# connecting to server\n",
    "client_skt.connect((server_ip, server_port))\n",
    "client_skt.recv(1024)\n",
    "while True:\n",
    "    command = input()\n",
    "    \n",
    "    if command.strip() == \"\":\n",
    "        print(\"Empty command\")\n",
    "    else:\n",
    "        client_skt.send(command.strip().encode())\n",
    "        response = client_skt.recv(1024)\n",
    "        print(response, \"\\n\")\n",
    "    if command.strip() == \"exit()\":\n",
    "        break"
   ]
  }
 ],
 "metadata": {
  "kernelspec": {
   "display_name": "Python 3 (ipykernel)",
   "language": "python",
   "name": "python3"
  },
  "language_info": {
   "codemirror_mode": {
    "name": "ipython",
    "version": 3
   },
   "file_extension": ".py",
   "mimetype": "text/x-python",
   "name": "python",
   "nbconvert_exporter": "python",
   "pygments_lexer": "ipython3",
   "version": "3.9.6"
  }
 },
 "nbformat": 4,
 "nbformat_minor": 5
}
