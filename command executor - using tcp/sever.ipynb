{
 "cells": [
  {
   "cell_type": "code",
   "execution_count": null,
   "id": "218752d5",
   "metadata": {},
   "outputs": [],
   "source": [
    "# importing required libraries\n",
    "import socket\n",
    "import threading\n",
    "import datetime\n",
    "import sys, subprocess"
   ]
  },
  {
   "cell_type": "code",
   "execution_count": null,
   "id": "eb6b768a",
   "metadata": {},
   "outputs": [],
   "source": [
    "#creates and returns a socket\n",
    "def create_socket():\n",
    "    #Protocol = UDB, addressFamily = ipv4\n",
    "    protocol = socket.SOCK_STREAM\n",
    "    address_family = socket.AF_INET\n",
    "\n",
    "    #socket creation\n",
    "    skt = socket.socket(address_family, protocol)\n",
    "\n",
    "    #Bind information\n",
    "    server_ip = \"\"\n",
    "    server_port = 9008\n",
    "\n",
    "    #Binding port and ip\n",
    "    skt.bind((server_ip, server_port))\n",
    "\n",
    "    return skt"
   ]
  },
  {
   "cell_type": "code",
   "execution_count": null,
   "id": "86a00d63",
   "metadata": {},
   "outputs": [],
   "source": [
    "# logging data\n",
    "def logger(request_dict:dict):\n",
    "    # creating a log dictionary\n",
    "    log = {\n",
    "        \"datetime\": str(request_dict['datetime']),\n",
    "        \"request\": request_dict['request'],\n",
    "        \"ip_address\": request_dict['address_info'][0],\n",
    "        \"port\": request_dict['address_info'][1],\n",
    "        \"return_code\": request_dict['return_code']\n",
    "    }\n",
    "    \n",
    "    # writes data to file in json format\n",
    "    # creates a log file every day\n",
    "    try:\n",
    "        log_file = open(\"{}-log.txt\".format(str(datetime.date.today())), \"a\")\n",
    "        log_file.write(\"{}\\n\".format(log))\n",
    "        print(log)\n",
    "    except Exception as e:\n",
    "        print(\"Error: \", sys.exc_info()[1], \" \", str(datetime.datetime.now()))"
   ]
  },
  {
   "cell_type": "code",
   "execution_count": null,
   "id": "8912665e",
   "metadata": {},
   "outputs": [],
   "source": [
    "# processing requests\n",
    "def request_processor(skt_object, address_info):\n",
    "    # constandly listens for data from client\n",
    "    while True:\n",
    "        request = skt_object.recv(1024)\n",
    "        \n",
    "        # checks whether user wants to terminate session\n",
    "        if request.decode() == \"exit()\":\n",
    "            skt_object.send(b\"Session terminated\")\n",
    "            skt_object.close()\n",
    "            break\n",
    "            \n",
    "        # executes requests and returns output\n",
    "        status_output = subprocess.getstatusoutput(request)\n",
    "        \n",
    "        # returns output to user\n",
    "        skt_object.send(status_output[1].encode())\n",
    "        \n",
    "        # logs request\n",
    "        logger({\"request\": request, \"address_info\": address_info, \"datetime\": datetime.datetime.now(), \"return_code\": status_output[0]})\n",
    "        \n",
    "skt = create_socket()\n"
   ]
  },
  {
   "cell_type": "code",
   "execution_count": null,
   "id": "2196a0af",
   "metadata": {},
   "outputs": [],
   "source": [
    "# listening for incomming connection requests from clients\n",
    "skt.listen()"
   ]
  },
  {
   "cell_type": "code",
   "execution_count": null,
   "id": "2881f552",
   "metadata": {},
   "outputs": [],
   "source": [
    "# runs infinitely waiting for a connection request\n",
    "while True:\n",
    "    # accepts a request to connect from client\n",
    "    skt_object, address_info = skt.accept()\n",
    "    skt_object.send(b\"Connected\")\n",
    "    #creates a thread on the fly for each new user\n",
    "    threading.Thread(name=str(datetime.datetime.now()), target=lambda : request_processor(skt_object, address_info)).start()\n",
    "    "
   ]
  },
  {
   "cell_type": "code",
   "execution_count": null,
   "id": "571eea01",
   "metadata": {},
   "outputs": [],
   "source": []
  }
 ],
 "metadata": {
  "kernelspec": {
   "display_name": "Python 3 (ipykernel)",
   "language": "python",
   "name": "python3"
  },
  "language_info": {
   "codemirror_mode": {
    "name": "ipython",
    "version": 3
   },
   "file_extension": ".py",
   "mimetype": "text/x-python",
   "name": "python",
   "nbconvert_exporter": "python",
   "pygments_lexer": "ipython3",
   "version": "3.9.6"
  }
 },
 "nbformat": 4,
 "nbformat_minor": 5
}
